{
  "nbformat": 4,
  "nbformat_minor": 0,
  "metadata": {
    "colab": {
      "provenance": [],
      "gpuType": "T4",
      "mount_file_id": "1bS32jYxQpIqloiF24rjZOAHjaT32K5eu",
      "authorship_tag": "ABX9TyOeSTsjWQHyMkH/iHbyfTjU",
      "include_colab_link": true
    },
    "kernelspec": {
      "name": "python3",
      "display_name": "Python 3"
    },
    "language_info": {
      "name": "python"
    },
    "accelerator": "GPU"
  },
  "cells": [
    {
      "cell_type": "markdown",
      "metadata": {
        "id": "view-in-github",
        "colab_type": "text"
      },
      "source": [
        "<a href=\"https://colab.research.google.com/github/beingUday/Stock-market-trends-prediction/blob/main/Extracting_data_.ipynb\" target=\"_parent\"><img src=\"https://colab.research.google.com/assets/colab-badge.svg\" alt=\"Open In Colab\"/></a>"
      ]
    },
    {
      "cell_type": "code",
      "source": [
        "! pip install yfinance"
      ],
      "metadata": {
        "colab": {
          "base_uri": "https://localhost:8080/"
        },
        "id": "7XAAZjJ5t9SR",
        "outputId": "5b85a124-c7dd-4645-fc17-aa2244835189"
      },
      "execution_count": null,
      "outputs": [
        {
          "output_type": "stream",
          "name": "stdout",
          "text": [
            "Requirement already satisfied: yfinance in /usr/local/lib/python3.11/dist-packages (0.2.55)\n",
            "Requirement already satisfied: pandas>=1.3.0 in /usr/local/lib/python3.11/dist-packages (from yfinance) (2.2.2)\n",
            "Requirement already satisfied: numpy>=1.16.5 in /usr/local/lib/python3.11/dist-packages (from yfinance) (2.0.2)\n",
            "Requirement already satisfied: requests>=2.31 in /usr/local/lib/python3.11/dist-packages (from yfinance) (2.32.3)\n",
            "Requirement already satisfied: multitasking>=0.0.7 in /usr/local/lib/python3.11/dist-packages (from yfinance) (0.0.11)\n",
            "Requirement already satisfied: platformdirs>=2.0.0 in /usr/local/lib/python3.11/dist-packages (from yfinance) (4.3.7)\n",
            "Requirement already satisfied: pytz>=2022.5 in /usr/local/lib/python3.11/dist-packages (from yfinance) (2025.1)\n",
            "Requirement already satisfied: frozendict>=2.3.4 in /usr/local/lib/python3.11/dist-packages (from yfinance) (2.4.6)\n",
            "Requirement already satisfied: peewee>=3.16.2 in /usr/local/lib/python3.11/dist-packages (from yfinance) (3.17.9)\n",
            "Requirement already satisfied: beautifulsoup4>=4.11.1 in /usr/local/lib/python3.11/dist-packages (from yfinance) (4.13.3)\n",
            "Requirement already satisfied: soupsieve>1.2 in /usr/local/lib/python3.11/dist-packages (from beautifulsoup4>=4.11.1->yfinance) (2.6)\n",
            "Requirement already satisfied: typing-extensions>=4.0.0 in /usr/local/lib/python3.11/dist-packages (from beautifulsoup4>=4.11.1->yfinance) (4.12.2)\n",
            "Requirement already satisfied: python-dateutil>=2.8.2 in /usr/local/lib/python3.11/dist-packages (from pandas>=1.3.0->yfinance) (2.8.2)\n",
            "Requirement already satisfied: tzdata>=2022.7 in /usr/local/lib/python3.11/dist-packages (from pandas>=1.3.0->yfinance) (2025.1)\n",
            "Requirement already satisfied: charset-normalizer<4,>=2 in /usr/local/lib/python3.11/dist-packages (from requests>=2.31->yfinance) (3.4.1)\n",
            "Requirement already satisfied: idna<4,>=2.5 in /usr/local/lib/python3.11/dist-packages (from requests>=2.31->yfinance) (3.10)\n",
            "Requirement already satisfied: urllib3<3,>=1.21.1 in /usr/local/lib/python3.11/dist-packages (from requests>=2.31->yfinance) (2.3.0)\n",
            "Requirement already satisfied: certifi>=2017.4.17 in /usr/local/lib/python3.11/dist-packages (from requests>=2.31->yfinance) (2025.1.31)\n",
            "Requirement already satisfied: six>=1.5 in /usr/local/lib/python3.11/dist-packages (from python-dateutil>=2.8.2->pandas>=1.3.0->yfinance) (1.17.0)\n"
          ]
        }
      ]
    },
    {
      "cell_type": "code",
      "execution_count": null,
      "metadata": {
        "id": "n8FiiWenkpuT"
      },
      "outputs": [],
      "source": [
        "import pandas as pd\n",
        "import yfinance as yf\n",
        "import os"
      ]
    },
    {
      "cell_type": "code",
      "source": [
        "\n",
        "stocks = [\"RELIANCE.NS\", \"TCS.NS\", \"INFY.NS\", \"HDFCBANK.NS\", \"ICICIBANK.NS\",\n",
        "          \"KOTAKBANK.NS\", \"SBIN.NS\", \"HINDUNILVR.NS\", \"BAJFINANCE.NS\", \"LT.NS\"]\n",
        "start_date = \"2010-01-01\"\n",
        "end_date = \"2024-12-31\"\n",
        "Data ={}\n",
        "for stock in stocks:\n",
        "  try:\n",
        "    ticker = yf.Ticker(stock)\n",
        "    Data[stock] = ticker.history(start=start_date, end=end_date)\n",
        "    if not Data[stock].empty:\n",
        "      fn = f\"{stock.replace('.NS','')}_data.csv\"\n",
        "      Data[stock].to_csv(fn)\n",
        "      print(f\"data for {stock} saved as {fn}\")\n",
        "    else:\n",
        "      print(f\"The data for {stock} is empty. It is possibly delisted or incorrect ticker\")\n",
        "\n",
        "  except Exception as e:\n",
        "    print(f\"Error fetching for {stock}\")\n",
        "print(\"All data saved \")\n"
      ],
      "metadata": {
        "colab": {
          "base_uri": "https://localhost:8080/"
        },
        "id": "mLvc-nYdvKQK",
        "outputId": "203547df-cc66-444a-c909-c88c8e5460bc"
      },
      "execution_count": null,
      "outputs": [
        {
          "output_type": "stream",
          "name": "stdout",
          "text": [
            "data for RELIANCE.NS saved as RELIANCE_data.csv\n",
            "data for TCS.NS saved as TCS_data.csv\n",
            "data for INFY.NS saved as INFY_data.csv\n",
            "data for HDFCBANK.NS saved as HDFCBANK_data.csv\n",
            "data for ICICIBANK.NS saved as ICICIBANK_data.csv\n",
            "data for KOTAKBANK.NS saved as KOTAKBANK_data.csv\n",
            "data for SBIN.NS saved as SBIN_data.csv\n",
            "data for HINDUNILVR.NS saved as HINDUNILVR_data.csv\n",
            "data for BAJFINANCE.NS saved as BAJFINANCE_data.csv\n",
            "data for LT.NS saved as LT_data.csv\n",
            "All data saved \n"
          ]
        }
      ]
    }
  ]
}